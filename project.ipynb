{
 "cells": [
  {
   "cell_type": "markdown",
   "id": "124e5672",
   "metadata": {},
   "source": [
    "# Custom Chatbot Project"
   ]
  },
  {
   "cell_type": "markdown",
   "id": "2a4a94b3",
   "metadata": {},
   "source": [
    "For this project, I have chosen the `character_descriptions.csv` dataset, which contains detailed descriptions of fictional characters from theater, television, and film. This dataset is appropriate because it provides rich, structured information about a diverse set of characters, including their personalities, backgrounds, and relationships. By customizing the chatbot with this data, we can create a conversational agent that can answer questions about these characters, simulate their personalities, or help users explore stories and settings in a more interactive way. This customization is particularly useful for applications in creative writing, education, or entertainment, where users may want to interact with or learn about fictional characters in depth."
   ]
  },
  {
   "cell_type": "markdown",
   "id": "a63d4c5f",
   "metadata": {},
   "source": [
    "## Data Wrangling\n",
    "\n",
    "In the cells below, we will load the `character_descriptions.csv` dataset into a pandas dataframe and create a column named `\"text\"` that combines relevant information for each character. This will prepare the data for use in our custom chatbot."
   ]
  },
  {
   "cell_type": "code",
   "execution_count": 1,
   "id": "c69b83a1",
   "metadata": {},
   "outputs": [
    {
     "data": {
      "application/vnd.microsoft.datawrangler.viewer.v0+json": {
       "columns": [
        {
         "name": "index",
         "rawType": "int64",
         "type": "integer"
        },
        {
         "name": "Name",
         "rawType": "object",
         "type": "string"
        },
        {
         "name": "Description",
         "rawType": "object",
         "type": "string"
        },
        {
         "name": "Medium",
         "rawType": "object",
         "type": "string"
        },
        {
         "name": "Setting",
         "rawType": "object",
         "type": "string"
        }
       ],
       "ref": "dcf9dd51-342b-488b-a4e0-00a1a784994c",
       "rows": [
        [
         "0",
         "Emily",
         "A young woman in her early 20s, Emily is an aspiring actress and Alice's daughter. She has a bubbly personality and a quick wit, but struggles with self-doubt and insecurity. She's also in a relationship with George.",
         "Play",
         "England"
        ],
        [
         "1",
         "Jack",
         "A middle-aged man in his 40s, Jack is a successful businessman and Sarah's boss. He has a no-nonsense attitude, but is fiercely loyal to his friends and family. He's married to Alice.",
         "Play",
         "England"
        ],
        [
         "2",
         "Alice",
         "A woman in her late 30s, Alice is a warm and nurturing mother of two, including Emily. She's kind-hearted and empathetic, but can be overly protective of her children and prone to worrying. She's married to Jack.",
         "Play",
         "England"
        ],
        [
         "3",
         "Tom",
         "A man in his 50s, Tom is a retired soldier and John's son. He has a no-nonsense approach to life, but is haunted by his experiences in combat and struggles with PTSD. He's also in a relationship with Rachel.",
         "Play",
         "England"
        ],
        [
         "4",
         "Sarah",
         "A woman in her mid-20s, Sarah is a free-spirited artist and Jack's employee. She's creative, unconventional, and passionate about her work. However, she can also be flighty and impulsive at times.",
         "Play",
         "England"
        ]
       ],
       "shape": {
        "columns": 4,
        "rows": 5
       }
      },
      "text/html": [
       "<div>\n",
       "<style scoped>\n",
       "    .dataframe tbody tr th:only-of-type {\n",
       "        vertical-align: middle;\n",
       "    }\n",
       "\n",
       "    .dataframe tbody tr th {\n",
       "        vertical-align: top;\n",
       "    }\n",
       "\n",
       "    .dataframe thead th {\n",
       "        text-align: right;\n",
       "    }\n",
       "</style>\n",
       "<table border=\"1\" class=\"dataframe\">\n",
       "  <thead>\n",
       "    <tr style=\"text-align: right;\">\n",
       "      <th></th>\n",
       "      <th>Name</th>\n",
       "      <th>Description</th>\n",
       "      <th>Medium</th>\n",
       "      <th>Setting</th>\n",
       "    </tr>\n",
       "  </thead>\n",
       "  <tbody>\n",
       "    <tr>\n",
       "      <th>0</th>\n",
       "      <td>Emily</td>\n",
       "      <td>A young woman in her early 20s, Emily is an as...</td>\n",
       "      <td>Play</td>\n",
       "      <td>England</td>\n",
       "    </tr>\n",
       "    <tr>\n",
       "      <th>1</th>\n",
       "      <td>Jack</td>\n",
       "      <td>A middle-aged man in his 40s, Jack is a succes...</td>\n",
       "      <td>Play</td>\n",
       "      <td>England</td>\n",
       "    </tr>\n",
       "    <tr>\n",
       "      <th>2</th>\n",
       "      <td>Alice</td>\n",
       "      <td>A woman in her late 30s, Alice is a warm and n...</td>\n",
       "      <td>Play</td>\n",
       "      <td>England</td>\n",
       "    </tr>\n",
       "    <tr>\n",
       "      <th>3</th>\n",
       "      <td>Tom</td>\n",
       "      <td>A man in his 50s, Tom is a retired soldier and...</td>\n",
       "      <td>Play</td>\n",
       "      <td>England</td>\n",
       "    </tr>\n",
       "    <tr>\n",
       "      <th>4</th>\n",
       "      <td>Sarah</td>\n",
       "      <td>A woman in her mid-20s, Sarah is a free-spirit...</td>\n",
       "      <td>Play</td>\n",
       "      <td>England</td>\n",
       "    </tr>\n",
       "  </tbody>\n",
       "</table>\n",
       "</div>"
      ],
      "text/plain": [
       "    Name                                        Description Medium  Setting\n",
       "0  Emily  A young woman in her early 20s, Emily is an as...   Play  England\n",
       "1   Jack  A middle-aged man in his 40s, Jack is a succes...   Play  England\n",
       "2  Alice  A woman in her late 30s, Alice is a warm and n...   Play  England\n",
       "3    Tom  A man in his 50s, Tom is a retired soldier and...   Play  England\n",
       "4  Sarah  A woman in her mid-20s, Sarah is a free-spirit...   Play  England"
      ]
     },
     "execution_count": 1,
     "metadata": {},
     "output_type": "execute_result"
    }
   ],
   "source": [
    "import pandas as pd\n",
    "\n",
    "df = pd.read_csv('data/character_descriptions.csv')\n",
    "df.head()"
   ]
  },
  {
   "cell_type": "code",
   "execution_count": 2,
   "id": "0a595980",
   "metadata": {},
   "outputs": [
    {
     "data": {
      "application/vnd.microsoft.datawrangler.viewer.v0+json": {
       "columns": [
        {
         "name": "index",
         "rawType": "int64",
         "type": "integer"
        },
        {
         "name": "text",
         "rawType": "object",
         "type": "string"
        }
       ],
       "ref": "e3f1619a-c4d7-4c60-9128-e6fc32b18ef8",
       "rows": [
        [
         "0",
         "Name: Emily\nDescription: A young woman in her early 20s, Emily is an aspiring actress and Alice's daughter. She has a bubbly personality and a quick wit, but struggles with self-doubt and insecurity. She's also in a relationship with George.\nMedium: Play\nSetting: England"
        ],
        [
         "1",
         "Name: Jack\nDescription: A middle-aged man in his 40s, Jack is a successful businessman and Sarah's boss. He has a no-nonsense attitude, but is fiercely loyal to his friends and family. He's married to Alice.\nMedium: Play\nSetting: England"
        ],
        [
         "2",
         "Name: Alice\nDescription: A woman in her late 30s, Alice is a warm and nurturing mother of two, including Emily. She's kind-hearted and empathetic, but can be overly protective of her children and prone to worrying. She's married to Jack.\nMedium: Play\nSetting: England"
        ],
        [
         "3",
         "Name: Tom\nDescription: A man in his 50s, Tom is a retired soldier and John's son. He has a no-nonsense approach to life, but is haunted by his experiences in combat and struggles with PTSD. He's also in a relationship with Rachel.\nMedium: Play\nSetting: England"
        ],
        [
         "4",
         "Name: Sarah\nDescription: A woman in her mid-20s, Sarah is a free-spirited artist and Jack's employee. She's creative, unconventional, and passionate about her work. However, she can also be flighty and impulsive at times.\nMedium: Play\nSetting: England"
        ]
       ],
       "shape": {
        "columns": 1,
        "rows": 5
       }
      },
      "text/html": [
       "<div>\n",
       "<style scoped>\n",
       "    .dataframe tbody tr th:only-of-type {\n",
       "        vertical-align: middle;\n",
       "    }\n",
       "\n",
       "    .dataframe tbody tr th {\n",
       "        vertical-align: top;\n",
       "    }\n",
       "\n",
       "    .dataframe thead th {\n",
       "        text-align: right;\n",
       "    }\n",
       "</style>\n",
       "<table border=\"1\" class=\"dataframe\">\n",
       "  <thead>\n",
       "    <tr style=\"text-align: right;\">\n",
       "      <th></th>\n",
       "      <th>text</th>\n",
       "    </tr>\n",
       "  </thead>\n",
       "  <tbody>\n",
       "    <tr>\n",
       "      <th>0</th>\n",
       "      <td>Name: Emily\\nDescription: A young woman in her...</td>\n",
       "    </tr>\n",
       "    <tr>\n",
       "      <th>1</th>\n",
       "      <td>Name: Jack\\nDescription: A middle-aged man in ...</td>\n",
       "    </tr>\n",
       "    <tr>\n",
       "      <th>2</th>\n",
       "      <td>Name: Alice\\nDescription: A woman in her late ...</td>\n",
       "    </tr>\n",
       "    <tr>\n",
       "      <th>3</th>\n",
       "      <td>Name: Tom\\nDescription: A man in his 50s, Tom ...</td>\n",
       "    </tr>\n",
       "    <tr>\n",
       "      <th>4</th>\n",
       "      <td>Name: Sarah\\nDescription: A woman in her mid-2...</td>\n",
       "    </tr>\n",
       "  </tbody>\n",
       "</table>\n",
       "</div>"
      ],
      "text/plain": [
       "                                                text\n",
       "0  Name: Emily\\nDescription: A young woman in her...\n",
       "1  Name: Jack\\nDescription: A middle-aged man in ...\n",
       "2  Name: Alice\\nDescription: A woman in her late ...\n",
       "3  Name: Tom\\nDescription: A man in his 50s, Tom ...\n",
       "4  Name: Sarah\\nDescription: A woman in her mid-2..."
      ]
     },
     "execution_count": 2,
     "metadata": {},
     "output_type": "execute_result"
    }
   ],
   "source": [
    "# Combine relevant columns into a single 'text' column for each character\n",
    "df['text'] = df.apply(lambda row: f\"Name: {row['Name']}\\nDescription: {row['Description']}\\nMedium: {row['Medium']}\\nSetting: {row['Setting']}\", axis=1)\n",
    "df[['text']].head()"
   ]
  },
  {
   "cell_type": "code",
   "execution_count": 3,
   "id": "acb3a9fd",
   "metadata": {},
   "outputs": [
    {
     "name": "stdout",
     "output_type": "stream",
     "text": [
      "Total number of rows: 55\n"
     ]
    },
    {
     "data": {
      "application/vnd.microsoft.datawrangler.viewer.v0+json": {
       "columns": [
        {
         "name": "index",
         "rawType": "int64",
         "type": "integer"
        },
        {
         "name": "text",
         "rawType": "object",
         "type": "string"
        }
       ],
       "ref": "f78fbda9-b204-480c-949d-42f95f540a8e",
       "rows": [
        [
         "0",
         "Name: Emily\nDescription: A young woman in her early 20s, Emily is an aspiring actress and Alice's daughter. She has a bubbly personality and a quick wit, but struggles with self-doubt and insecurity. She's also in a relationship with George.\nMedium: Play\nSetting: England"
        ],
        [
         "1",
         "Name: Jack\nDescription: A middle-aged man in his 40s, Jack is a successful businessman and Sarah's boss. He has a no-nonsense attitude, but is fiercely loyal to his friends and family. He's married to Alice.\nMedium: Play\nSetting: England"
        ],
        [
         "2",
         "Name: Alice\nDescription: A woman in her late 30s, Alice is a warm and nurturing mother of two, including Emily. She's kind-hearted and empathetic, but can be overly protective of her children and prone to worrying. She's married to Jack.\nMedium: Play\nSetting: England"
        ],
        [
         "3",
         "Name: Tom\nDescription: A man in his 50s, Tom is a retired soldier and John's son. He has a no-nonsense approach to life, but is haunted by his experiences in combat and struggles with PTSD. He's also in a relationship with Rachel.\nMedium: Play\nSetting: England"
        ],
        [
         "4",
         "Name: Sarah\nDescription: A woman in her mid-20s, Sarah is a free-spirited artist and Jack's employee. She's creative, unconventional, and passionate about her work. However, she can also be flighty and impulsive at times.\nMedium: Play\nSetting: England"
        ],
        [
         "5",
         "Name: George\nDescription: A man in his early 30s, George is a charming and charismatic businessman who is in a relationship with Emily. He's ambitious, confident, and always looking for the next big opportunity. However, he's also prone to bending the rules to get what he wants.\nMedium: Play\nSetting: England"
        ],
        [
         "6",
         "Name: Rachel\nDescription: A woman in her late 20s, Rachel is a shy and introverted librarian who is in a relationship with Tom. She's intelligent, thoughtful, and has a deep love of books. However, she struggles with social anxiety and often feels like an outsider.\nMedium: Play\nSetting: England"
        ],
        [
         "7",
         "Name: John\nDescription: A man in his 60s, John is a retired professor and Tom's father. He has a dry wit and a love of intellectual debate, but can also be stubborn and set in his ways.\nMedium: Play\nSetting: England"
        ],
        [
         "8",
         "Name: Maria\nDescription: A middle-aged Latina woman in her 40s, Maria is a hard-working single mother who owns a small family-run diner in a small Texas town. She's fiercely protective of her teenage daughter, Sofia, and is always trying to balance work and family.\nMedium: Movie\nSetting: Texas"
        ],
        [
         "9",
         "Name: Caleb\nDescription: A young African American man in his early 20s, Caleb is a talented musician who dreams of making it big in the music industry. He's charismatic, confident, and has a way with words. However, he's also struggling with addiction and is constantly at odds with his strict religious family.\nMedium: Movie\nSetting: Texas"
        ],
        [
         "10",
         "Name: Tyler\nDescription: A white man in his mid-30s, Tyler is a tough-as-nails sheriff who takes his job very seriously. He's stoic, no-nonsense, and has a strong sense of justice. However, he's also struggling to come to terms with a recent tragedy in his personal life.\nMedium: Movie\nSetting: Texas"
        ],
        [
         "11",
         "Name: Sonya\nDescription: A white woman in her late 20s, Sonya is a free-spirited journalist who's always on the hunt for the next big story. She's passionate, tenacious, and unafraid to speak her mind. However, she's also struggling to balance her career with her personal life, and has a tendency to push people away.\nMedium: Movie\nSetting: Texas"
        ],
        [
         "12",
         "Name: Manuel\nDescription: A middle-aged Hispanic man in his 50s, Manuel is a proud and hard-working farmer who's struggling to keep his family's farm afloat. He's fiercely loyal to his family and his community, and will do whatever it takes to protect them.\nMedium: Movie\nSetting: Texas"
        ],
        [
         "13",
         "Name: Will\nDescription: A white man in his early 40s, Will is a successful businessman who's come back to his hometown after many years away. He's confident, charming, and knows how to get what he wants. However, he's also hiding a dark secret from his past that threatens to destroy everything he's worked for.\nMedium: Movie\nSetting: Texas"
        ],
        [
         "14",
         "Name: Mia\nDescription: A young Australian woman in her mid-20s, Mia is a driven and ambitious lawyer who's just landed her dream job at a top law firm in Sydney. She's the younger sister of Max, a former soldier who's struggling with PTSD, and is trying to help him navigate his challenges while also balancing her demanding career.\nMedium: Limited Series\nSetting: Australia"
        ],
        [
         "15",
         "Name: Lucas\nDescription: A middle-aged Australian man in his 40s, Lucas is a successful businessman and the CEO of a major tech company. He's charming, charismatic, and has a way with people. He's been married to Ava, a successful fashion designer, for many years, but their marriage is on the rocks due to his infidelity.\nMedium: Limited Series\nSetting: Australia"
        ],
        [
         "16",
         "Name: Tahlia\nDescription: A young Indigenous Australian woman in her early 20s, Tahlia is a talented artist who's just been accepted into a prestigious art school. She's the niece of Mia and Max, and they've been like siblings since they were young. She's struggling to find her place in the world as an Indigenous woman, but Mia and Max are always there to support her.\nMedium: Limited Series\nSetting: Australia"
        ],
        [
         "17",
         "Name: Max\nDescription: A white Australian man in his late 20s, Max is a former soldier who's struggling to adjust to civilian life after serving in Afghanistan. He's tough, no-nonsense, and has a strong sense of duty. He's the older brother of Mia, and they've always been close. He's also Ava's godson, and she's always been like a second mother to him.\nMedium: Limited Series\nSetting: Australia"
        ],
        [
         "18",
         "Name: Ava\nDescription: A middle-aged Australian woman in her 50s, Ava is a successful fashion designer who's built an empire on her impeccable taste and attention to detail. She's elegant, sophisticated, and always knows what's in style. She's married to Lucas, but their marriage is strained due to his infidelity. She's also been a mentor to Tahlia, and has helped her navigate the art world.\nMedium: Limited Series\nSetting: Australia"
        ],
        [
         "19",
         "Name: Donna\nDescription: A seasoned performer with a larger-than-life personality, Donna is confident and unapologetic on stage. She's known for her impeccable lip-sync skills and stunning costumes, but can sometimes come across as a diva behind the scenes. She's also a mentor to Johnny, helping her to hone her craft.\nMedium: Musical\nSetting: USA"
        ],
        [
         "20",
         "Name: Johnny\nDescription: A young up-and-coming performer, Johnny is full of energy and enthusiasm. She's known for her edgy and unconventional looks, but can be a bit scatterbrained at times. She looks up to Donna as a mentor and hopes to follow in her footsteps.\nMedium: Musical\nSetting: USA"
        ],
        [
         "21",
         "Name: Sable\nDescription: A sultry and dramatic performer, Sable exudes confidence on stage. She's known for her fierce lip-syncing abilities and dramatic performances, but can sometimes be a bit too self-absorbed. She's also a rival of Donna, and the two often compete for the spotlight.\nMedium: Musical\nSetting: USA"
        ],
        [
         "22",
         "Name: Dolly\nDescription: A bubbly and vivacious performer, Dolly is a fan favorite for her infectious personality and comedic performances. She's known for her campy looks and over-the-top antics, but can struggle with self-doubt and insecurity off stage. She's also a good friend of Johnny, often offering her words of encouragement.\nMedium: Musical\nSetting: USA"
        ],
        [
         "23",
         "Name: Vixen\nDescription: A fierce and competitive performer, Vixen is always out to win. She's known for her aggressive lip-syncing style and high-energy performances, but can be confrontational and difficult to work with. She's also a rival of Sable, and the two often clash both on and off stage.\nMedium: Musical\nSetting: USA"
        ],
        [
         "24",
         "Name: Karma\nDescription: A chameleon-like performer, Karma is known for her ability to transform herself into any character. She's a master of illusion and is always pushing boundaries with her looks and performances, but can sometimes struggle with authenticity and staying true to herself. She's also a friend of Dolly, often offering her a listening ear when she needs it.\nMedium: Musical\nSetting: USA"
        ],
        [
         "25",
         "Name: Crystal\nDescription: A quirky and imaginative performer, Crystal is always surprising audiences with her off-beat performances and unconventional looks. She's known for her unique creativity and imaginative approach, but can sometimes struggle with staying focused and on task. She's also a bit of a wildcard, and the other performers never know what to expect from her.\nMedium: Musical\nSetting: USA"
        ],
        [
         "26",
         "Name: Olivia\nDescription: A confident and charismatic marketing executive with a heart of gold. Olivia is always the life of the party, and her infectious personality draws people to her. She's looking for someone who can keep up with her high energy and bring some stability to her life.\nMedium: Reality Show\nSetting: USA"
        ],
        [
         "27",
         "Name: Marcus\nDescription: A charming and successful entrepreneur, Marcus is used to getting what he wants. He's a smooth talker with a magnetic personality, but can sometimes come across as a bit too self-centered. He's looking for someone who can challenge him and keep him on his toes.\nMedium: Reality Show\nSetting: USA"
        ],
        [
         "28",
         "Name: Maya\nDescription: A kind and compassionate nurse with a heart of gold, Maya is always putting others before herself. She's looking for someone who shares her values and is committed to making the world a better place. She's not afraid to speak her mind and stand up for what she believes in.\nMedium: Reality Show\nSetting: USA"
        ],
        [
         "29",
         "Name: James\nDescription: A handsome and athletic personal trainer, James is always up for a challenge. He's looking for someone who is as passionate about fitness as he is, and who can keep up with his intense workout regimen. He can sometimes come across as a bit too competitive, but his heart is always in the right place.\nMedium: Reality Show\nSetting: USA"
        ],
        [
         "30",
         "Name: Sophia\nDescription: A fun-loving and adventurous travel blogger, Sophia is always looking for her next big adventure. She's looking for someone who can join her on her travels and share in her love of exploration. She's a free spirit who isn't afraid to take risks and try new things.\nMedium: Reality Show\nSetting: USA"
        ],
        [
         "31",
         "Name: Noah\nDescription: A quirky and creative graphic designer, Noah is always pushing the boundaries with his art. He's looking for someone who can appreciate his unique perspective and isn't afraid to be a little unconventional. He's a bit of a romantic at heart, and loves nothing more than creating grand gestures of love for the people he cares about.\nMedium: Reality Show\nSetting: USA"
        ],
        [
         "32",
         "Name: Chloe\nDescription: A driven and ambitious attorney, Chloe is always striving for success. She's looking for someone who can match her intellect and drive, and who is supportive of her career goals. She's a bit guarded when it comes to matters of the heart, but is ready to let her guard down for the right person.\nMedium: Reality Show\nSetting: USA"
        ],
        [
         "33",
         "Name: Jake\nDescription: A laid-back and easygoing firefighter, Jake is the quintessential good guy. He's looking for someone who shares his values of honesty and integrity, and who is looking for a stable and committed relationship. He's a bit of a hopeless romantic, and is always looking for ways to sweep his partner off their feet.\nMedium: Reality Show\nSetting: USA"
        ],
        [
         "34",
         "Name: Prince Lorenzo\nDescription: A charming and handsome prince who has recently returned from a long journey abroad. Prince Lorenzo is well-traveled and cultured, and his voice is smooth and velvety. He is searching for true love and has his sights set on a particular young woman.\nMedium: Opera\nSetting: Italy"
        ],
        [
         "35",
         "Name: Signora Rosa\nDescription: A mysterious and alluring woman who runs a local apothecary. Signora Rosa is known for her beauty and her magical remedies, which some believe have mystical powers. Her singing voice is hauntingly beautiful and her demeanor is both captivating and enigmatic.\nMedium: Opera\nSetting: Italy"
        ],
        [
         "36",
         "Name: Baron Gustavo\nDescription: A wealthy and arrogant nobleman who loves to flaunt his wealth and status. Baron Gustavo is competitive and ruthless, and his singing voice is powerful and commanding. He is not above using his influence and resources to get what he wants, regardless of who he hurts in the process.\nMedium: Opera\nSetting: Italy"
        ],
        [
         "37",
         "Name: Francesca\nDescription: A fiery and passionate young woman who works as a blacksmith. She is strong-willed and independent, and her singing voice is bold and powerful. Francesca has caught the eye of Prince Lorenzo, but she is hesitant to give her heart to a man who comes from such a different world.\nMedium: Opera\nSetting: Italy"
        ],
        [
         "38",
         "Name: Don Carlo\nDescription: A charming and charismatic young man who is often the life of the party. Don Carlo is quick-witted and clever, and his singing voice is playful and light. He is friends with Baron Gustavo, but his loyalty is often called into question. He is not above causing mischief and stirring up trouble for his own amusement.\nMedium: Opera\nSetting: Italy"
        ],
        [
         "39",
         "Name: Duke Orsino\nDescription: A pompous and self-important nobleman who is hopelessly in love with Lady Olivia. Duke Orsino is arrogant and condescending to those around him, but is also a bit of a buffoon. He is related to Sir Toby Belch, who is his uncle.\nMedium: Play\nSetting: Ancient Greece"
        ],
        [
         "40",
         "Name: Lady Olivia\nDescription: A wealthy and beautiful noblewoman who has recently become a widow. Lady Olivia is melancholy and withdrawn, and refuses to entertain any suitors. She is the object of Duke Orsino's affections, but is not interested in him. She is also the cousin of Sir Toby Belch and his niece.\nMedium: Play\nSetting: Ancient Greece"
        ],
        [
         "41",
         "Name: Sir Toby Belch\nDescription: A drunken and lecherous knight who loves nothing more than drinking, carousing, and making mischief. Sir Toby Belch is related to Duke Orsino and Lady Olivia, and uses this connection to his advantage.\nMedium: Play\nSetting: Ancient Greece"
        ],
        [
         "42",
         "Name: Malvolio\nDescription: A pompous and self-righteous steward in Lady Olivia's household. Malvolio is humorless and uptight, and is often the target of Sir Toby Belch's pranks. He is secretly in love with Lady Olivia and harbors dreams of marrying her.\nMedium: Play\nSetting: Ancient Greece"
        ],
        [
         "43",
         "Name: Viola\nDescription: A plucky and resourceful young woman who is shipwrecked on the coast of Illyria. Viola disguises herself as a man, taking on the identity of Cesario, and becomes a servant in Duke Orsino's household. She develops feelings for the Duke, but is unable to reveal her true identity.\nMedium: Play\nSetting: Ancient Greece"
        ],
        [
         "44",
         "Name: Sir Andrew Aguecheek\nDescription: A dim-witted and gullible nobleman who is brought to Illyria by Sir Toby Belch as a potential suitor for Lady Olivia. Sir Andrew Aguecheek is a perennial bachelor and is easily manipulated by those around him.\nMedium: Play\nSetting: Ancient Greece"
        ],
        [
         "45",
         "Name: Bianca\nDescription: Lady Olivia's cunning and quick-witted maid. Bianca is a master of mischief and pranks, and often collaborates with Sir Toby Belch to torment Malvolio. She is also secretly in love with Sir Toby.\nMedium: Play\nSetting: Ancient Greece"
        ],
        [
         "46",
         "Name: Sebastian\nDescription: Viola's twin brother, who is also shipwrecked on the coast of Illyria. Sebastian is rescued by Antonio and becomes embroiled in a series of misunderstandings and mistaken identities. He develops feelings for Lady Olivia, much to the chagrin of Duke Orsino.\nMedium: Play\nSetting: Ancient Greece"
        ],
        [
         "47",
         "Name: Feste\nDescription: A jester and musician who works in Lady Olivia's household. Feste is the wisest character in the play, and uses his wit and intelligence to comment on the actions of the other characters. He is also a confidant to Viola, and helps her navigate her complicated situation.\nMedium: Play\nSetting: Ancient Greece"
        ],
        [
         "48",
         "Name: Antonio\nDescription: A sea captain who rescues Sebastian from the shipwreck. Antonio becomes devoted to Sebastian and follows him to Illyria, despite the danger it poses to himself.\nMedium: Play\nSetting: Ancient Greece"
        ],
        [
         "49",
         "Name: Abigail\nDescription: A plucky and resourceful young woman who works as a maid in one of the taverns in colonial Williamsburg. Abigail is hard-working and determined, and dreams of one day owning her own business. She has a friendly rivalry with her co-worker, Thomas.\nMedium: Sitcom\nSetting: USA"
        ]
       ],
       "shape": {
        "columns": 1,
        "rows": 55
       }
      },
      "text/plain": [
       "0     Name: Emily\\nDescription: A young woman in her...\n",
       "1     Name: Jack\\nDescription: A middle-aged man in ...\n",
       "2     Name: Alice\\nDescription: A woman in her late ...\n",
       "3     Name: Tom\\nDescription: A man in his 50s, Tom ...\n",
       "4     Name: Sarah\\nDescription: A woman in her mid-2...\n",
       "5     Name: George\\nDescription: A man in his early ...\n",
       "6     Name: Rachel\\nDescription: A woman in her late...\n",
       "7     Name: John\\nDescription: A man in his 60s, Joh...\n",
       "8     Name: Maria\\nDescription: A middle-aged Latina...\n",
       "9     Name: Caleb\\nDescription: A young African Amer...\n",
       "10    Name: Tyler\\nDescription: A white man in his m...\n",
       "11    Name: Sonya\\nDescription: A white woman in her...\n",
       "12    Name: Manuel\\nDescription: A middle-aged Hispa...\n",
       "13    Name: Will\\nDescription: A white man in his ea...\n",
       "14    Name: Mia\\nDescription: A young Australian wom...\n",
       "15    Name: Lucas\\nDescription: A middle-aged Austra...\n",
       "16    Name: Tahlia\\nDescription: A young Indigenous ...\n",
       "17    Name: Max\\nDescription: A white Australian man...\n",
       "18    Name: Ava\\nDescription: A middle-aged Australi...\n",
       "19    Name: Donna\\nDescription: A seasoned performer...\n",
       "20    Name: Johnny\\nDescription: A young up-and-comi...\n",
       "21    Name: Sable\\nDescription: A sultry and dramati...\n",
       "22    Name: Dolly\\nDescription: A bubbly and vivacio...\n",
       "23    Name: Vixen\\nDescription: A fierce and competi...\n",
       "24    Name: Karma\\nDescription: A chameleon-like per...\n",
       "25    Name: Crystal\\nDescription: A quirky and imagi...\n",
       "26    Name: Olivia\\nDescription: A confident and cha...\n",
       "27    Name: Marcus\\nDescription: A charming and succ...\n",
       "28    Name: Maya\\nDescription: A kind and compassion...\n",
       "29    Name: James\\nDescription: A handsome and athle...\n",
       "30    Name: Sophia\\nDescription: A fun-loving and ad...\n",
       "31    Name: Noah\\nDescription: A quirky and creative...\n",
       "32    Name: Chloe\\nDescription: A driven and ambitio...\n",
       "33    Name: Jake\\nDescription: A laid-back and easyg...\n",
       "34    Name: Prince Lorenzo\\nDescription: A charming ...\n",
       "35    Name: Signora Rosa\\nDescription: A mysterious ...\n",
       "36    Name: Baron Gustavo\\nDescription: A wealthy an...\n",
       "37    Name: Francesca\\nDescription: A fiery and pass...\n",
       "38    Name: Don Carlo\\nDescription: A charming and c...\n",
       "39    Name: Duke Orsino\\nDescription: A pompous and ...\n",
       "40    Name: Lady Olivia\\nDescription: A wealthy and ...\n",
       "41    Name: Sir Toby Belch\\nDescription: A drunken a...\n",
       "42    Name: Malvolio\\nDescription: A pompous and sel...\n",
       "43    Name: Viola\\nDescription: A plucky and resourc...\n",
       "44    Name: Sir Andrew Aguecheek\\nDescription: A dim...\n",
       "45    Name: Bianca\\nDescription: Lady Olivia's cunni...\n",
       "46    Name: Sebastian\\nDescription: Viola's twin bro...\n",
       "47    Name: Feste\\nDescription: A jester and musicia...\n",
       "48    Name: Antonio\\nDescription: A sea captain who ...\n",
       "49    Name: Abigail\\nDescription: A plucky and resou...\n",
       "50    Name: Thomas\\nDescription: A good-natured and ...\n",
       "51    Name: Reverend Brown\\nDescription: The pious a...\n",
       "52    Name: Captain James\\nDescription: The charisma...\n",
       "53    Name: Mrs. Mercer\\nDescription: The matriarch ...\n",
       "54    Name: Mr. Mercer\\nDescription: The bumbling an...\n",
       "Name: text, dtype: object"
      ]
     },
     "execution_count": 3,
     "metadata": {},
     "output_type": "execute_result"
    }
   ],
   "source": [
    "#get the total number of rows in the dataframe\n",
    "total_rows = df.shape[0]\n",
    "print(f\"Total number of rows: {total_rows}\")\n",
    "\n",
    "df['text']"
   ]
  },
  {
   "cell_type": "markdown",
   "id": "ae769871",
   "metadata": {},
   "source": [
    "## Custom Query Completion\n",
    "\n",
    "In the cells below, we will compose a custom query using the character descriptions dataset and retrieve results from an OpenAI Completion model. We will compare the chatbot's performance with and without the custom prompt."
   ]
  },
  {
   "cell_type": "markdown",
   "id": "815fd3a3",
   "metadata": {},
   "source": [
    "##### Step 1: Setting Up the OpenAI API Key\n",
    "In the next cell, we will import the necessary libraries and configure the OpenAI API for use in this notebook. Make sure to replace `\"YOUR_API_KEY\"` with your actual API key."
   ]
  },
  {
   "cell_type": "code",
   "execution_count": null,
   "id": "582f0656",
   "metadata": {},
   "outputs": [],
   "source": [
    "import os\n",
    "import numpy as np\n",
    "import time\n",
    "import openai\n",
    "openai.api_base = \"https://openai.vocareum.com/v1\"\n",
    "openai.api_key = \"YOUR_API_KEY\""
   ]
  },
  {
   "cell_type": "markdown",
   "id": "897fef88",
   "metadata": {},
   "source": [
    "##### Step 2: Basic (no context) Response generator functions\n",
    "\n",
    "In the next cell, we define helper functions for interacting with the OpenAI Completion API. These functions will allow us to generate responses using both the basic model and our custom character data."
   ]
  },
  {
   "cell_type": "code",
   "execution_count": 5,
   "id": "8b6e1f75",
   "metadata": {},
   "outputs": [],
   "source": [
    "# Helper function to get a basic completion (no custom data) with chat memory support\n",
    "def basic_completion(prompt, model=\"gpt-3.5-turbo-instruct\"):\n",
    "    response = openai.Completion.create(\n",
    "        model=model,\n",
    "        prompt=prompt,\n",
    "        max_tokens=200,\n",
    "        temperature=0.7\n",
    "    )\n",
    "    return response.choices[0].text.strip()\n",
    "\n",
    "\n",
    "# ## Code used to verify the structure of the 'response' output\n",
    "\n",
    "# response = openai.Completion.create(\n",
    "#         model=\"gpt-3.5-turbo-instruct\",\n",
    "#         prompt=\"Who is Emily and what is her personality like?\",\n",
    "#         max_tokens=200,\n",
    "#         temperature=0.7\n",
    "#     )\n",
    "# print(response)"
   ]
  },
  {
   "cell_type": "markdown",
   "id": "511e8dc7",
   "metadata": {},
   "source": [
    "##### Step 3: Generate Embeddings for Each Row\n",
    "\n",
    "We will use OpenAI's Embedding API to generate an embedding for each character description. This will allow us to later compare the relevance of each row to a user's question."
   ]
  },
  {
   "cell_type": "code",
   "execution_count": 6,
   "id": "3d1a2ec6",
   "metadata": {},
   "outputs": [],
   "source": [
    "def get_embedding(text, model=\"text-embedding-ada-002\"):\n",
    "    # Handles API rate limits gracefully\n",
    "    while True:\n",
    "        try:\n",
    "            result = openai.Embedding.create(\n",
    "                input=text,\n",
    "                model=model\n",
    "            )\n",
    "            return result[\"data\"][0][\"embedding\"]\n",
    "        except openai.error.RateLimitError:\n",
    "            time.sleep(1)\n",
    "\n",
    "def compute_embeddings_for_df(df, text_col=\"text\", embedding_col=\"embedding\"):\n",
    "    embeddings = []\n",
    "    for text in df[text_col]:\n",
    "        emb = get_embedding(text)\n",
    "        embeddings.append(emb)\n",
    "    df[embedding_col] = embeddings\n",
    "    return df\n",
    "\n",
    "# Only run this once, or cache the embeddings to avoid repeated API calls\n",
    "# df = compute_embeddings_for_df(df)\n",
    "# df.to_pickle('data/character_descriptions_with_embeddings.pkl')"
   ]
  },
  {
   "cell_type": "markdown",
   "id": "1b12acf9",
   "metadata": {},
   "source": [
    "##### Step 4: Load or Generate Embeddings\n",
    "\n",
    "To avoid repeated API calls, we recommend saving the dataframe with embeddings. If you have already generated embeddings, load them from disk. Otherwise, generate and save them."
   ]
  },
  {
   "cell_type": "code",
   "execution_count": 7,
   "id": "96c68692",
   "metadata": {},
   "outputs": [],
   "source": [
    "EMBEDDINGS_PATH = 'data/character_descriptions_with_embeddings.pkl'\n",
    "if os.path.exists(EMBEDDINGS_PATH):\n",
    "    df = pd.read_pickle(EMBEDDINGS_PATH)\n",
    "else:\n",
    "    df = compute_embeddings_for_df(df)\n",
    "    df.to_pickle(EMBEDDINGS_PATH)"
   ]
  },
  {
   "cell_type": "markdown",
   "id": "96460ecf",
   "metadata": {},
   "source": [
    "##### Step 5: Compute Relevance Using Cosine Similarity\n",
    "\n",
    "We will now implement a function to rank the rows by their relevance to a user's question, using cosine similarity between embeddings."
   ]
  },
  {
   "cell_type": "code",
   "execution_count": 8,
   "id": "6744f82b",
   "metadata": {},
   "outputs": [],
   "source": [
    "def cosine_similarity(a, b):\n",
    "    a = np.array(a)\n",
    "    b = np.array(b)\n",
    "    return np.dot(a, b) / (np.linalg.norm(a) * np.linalg.norm(b))\n",
    "\n",
    "def get_rows_sorted_by_relevance(question, df, embedding_col=\"embedding\", text_col=\"text\", model=\"text-embedding-ada-002\"):\n",
    "    question_emb = get_embedding(question, model=model)\n",
    "    similarities = df[embedding_col].apply(lambda emb: cosine_similarity(question_emb, emb))\n",
    "    sorted_df = df.assign(similarity=similarities).sort_values(by=\"similarity\", ascending=False)\n",
    "    return sorted_df"
   ]
  },
  {
   "cell_type": "markdown",
   "id": "7103a33e",
   "metadata": {},
   "source": [
    "##### Step 6: Token Counting and Prompt Construction\n",
    "\n",
    "We will use tiktoken to count tokens and ensure the prompt stays within the model's token limit. The prompt will include the most relevant rows as context."
   ]
  },
  {
   "cell_type": "code",
   "execution_count": 9,
   "id": "22d7dbd1",
   "metadata": {},
   "outputs": [],
   "source": [
    "import tiktoken\n",
    "\n",
    "def create_prompt(question, df, token_limit=3500, text_col=\"text\"):\n",
    "    encoding = tiktoken.get_encoding(\"cl100k_base\")\n",
    "    question_tokens = len(encoding.encode(question))\n",
    "    context = []\n",
    "    context_tokens = 0\n",
    "    for text in df[text_col]:\n",
    "        tokens = len(encoding.encode(text))\n",
    "        if context_tokens + tokens + question_tokens > token_limit:\n",
    "            break\n",
    "        context.append(text)\n",
    "        context_tokens += tokens\n",
    "    context_str = \"\\n\\n\".join(context)\n",
    "    prompt = f\"Below is information about several characters, including their names, descriptions, and backgrounds:\\n{context_str}\\n\\nWhen answering the user's question, always reference specific character names and details from the context above. Be concise, informative, and conversational. If the answer is not found in the context, say so honestly.\\n\\nUser question: {question}\\nAnswer:\"\n",
    "    return prompt"
   ]
  },
  {
   "cell_type": "markdown",
   "id": "0593111d",
   "metadata": {},
   "source": [
    "##### Step 7: Answering Questions with Relevant Context\n",
    "\n",
    "We will now create the custom_completion function to use the most relevant context from the dataset."
   ]
  },
  {
   "cell_type": "code",
   "execution_count": 10,
   "id": "6ee0e244",
   "metadata": {},
   "outputs": [],
   "source": [
    "def custom_completion(question, df, model=\"gpt-3.5-turbo-instruct\", token_limit=3500):\n",
    "    relevant_df = get_rows_sorted_by_relevance(question, df)\n",
    "    prompt = create_prompt(question, relevant_df, token_limit=token_limit)\n",
    "    response = openai.Completion.create(\n",
    "        model=model,\n",
    "        prompt=prompt,\n",
    "        max_tokens=200,\n",
    "        temperature=0.7\n",
    "    )\n",
    "    return response.choices[0].text.strip()\n"
   ]
  },
  {
   "cell_type": "code",
   "execution_count": 11,
   "id": "13f2dcd7",
   "metadata": {},
   "outputs": [],
   "source": [
    "# # Helper function to get a custom completion using the character descriptions and chat memory\n",
    "# def custom_completion(user_question, df, model=\"gpt-3.5-turbo-instruct\"):\n",
    "#     # Create a context from the character descriptions\n",
    "\n",
    "#     # Use the first 40 rows for context\n",
    "#     context = \"\\n\\n\".join(df['text'].head(40))\n",
    "    \n",
    "#     # ## Other context options:\n",
    "    \n",
    "#     # Random sample of 40 rows\n",
    "#     # context = \"\\n\\n\".join(df['text'].sample(40, random_state=42))\n",
    "\n",
    "#     # Use all rows for context\n",
    "#     # context = \"\\n\\n\".join(df['text'])\n",
    "    \n",
    "#     # Create a prompt for the model\n",
    "\n",
    "#     # Detailed prompt\n",
    "#     prompt = f\"Below is information about several characters, including their names, descriptions,\\\n",
    "#           and backgrounds:\\n\" f\"{context}\\n\\n\\\n",
    "#             When answering the user's question, always reference specific character names and details\\\n",
    "#                   from the context above.\\\n",
    "#                     Be concise, informative, and conversational. If the answer is not found in the\\\n",
    "#                           context, say so honestly.\\\n",
    "#                             \\n\\nUser question: {user_question}\\n\\\n",
    "#                             Answer:\"\n",
    "    \n",
    "#     # Compact Prompt\n",
    "#     # prompt = f\"You are an expert on fictional characters. Here is the information about some characters:\\n{context}\\n\\nUser question: {user_question}\\nAnswer:\"\n",
    "#     response = openai.Completion.create(\n",
    "#         model=model,\n",
    "#         prompt=prompt,\n",
    "#         max_tokens=200,\n",
    "#         temperature=0.7\n",
    "#     )\n",
    "#     return response.choices[0].text.strip()\n",
    "\n",
    "# # ## Code used to verify the structure of the 'response' output\n",
    "\n",
    "# # context = \"\\n\\n\".join(df['text'].head(40))\n",
    "# # user_question = \"Who is Emily and what is her personality like?\"\n",
    "# # prompt = f\"Below is information about several characters, including their names, descriptions,\\\n",
    "# #           and backgrounds:\\n\" f\"{context}\\n\\n\\\n",
    "# #             When answering the user's question, always reference specific character names and details\\\n",
    "# #                   from the context above.\\\n",
    "# #                     Be concise, informative, and conversational. If the answer is not found in the\\\n",
    "# #                           context, say so honestly.\\\n",
    "# #                             \\n\\nUser question: {user_question}\\n\\\n",
    "# #                             Answer:\"\n",
    "# # response = openai.Completion.create(\n",
    "# #         model=\"gpt-3.5-turbo-instruct\",\n",
    "# #         prompt=prompt,\n",
    "# #         max_tokens=200,\n",
    "# #         temperature=0.7\n",
    "# #     )\n",
    "# # print(response)"
   ]
  },
  {
   "cell_type": "markdown",
   "id": "1783f146",
   "metadata": {},
   "source": [
    "## Custom Performance Demonstration\n",
    "\n",
    "Below, we demonstrate the performance of the chatbot with two example questions, showing both the basic and custom completions."
   ]
  },
  {
   "cell_type": "markdown",
   "id": "4f11fdc0",
   "metadata": {},
   "source": [
    "### Question 1\n",
    "\n",
    "Who is Emily and what is her personality like?"
   ]
  },
  {
   "cell_type": "code",
   "execution_count": 12,
   "id": "4901c850",
   "metadata": {},
   "outputs": [
    {
     "name": "stdout",
     "output_type": "stream",
     "text": [
      "Basic Completion:\n",
      "\n",
      " Question: Who is Emily and what is her personality like?\n",
      "\n",
      " Response: Emily is a fictional character and there is not enough information provided to accurately describe her personality. It is up to the author or creator to determine her personality traits and characteristics.\n"
     ]
    }
   ],
   "source": [
    "# Basic completion\n",
    "question1 = \"Who is Emily and what is her personality like?\"\n",
    "print(f\"Basic Completion:\\n\\n Question: {question1}\\n\\n Response:\",basic_completion(question1))"
   ]
  },
  {
   "cell_type": "code",
   "execution_count": 13,
   "id": "bd7a093b",
   "metadata": {},
   "outputs": [
    {
     "name": "stdout",
     "output_type": "stream",
     "text": [
      "Custom Completion:\n",
      "\n",
      " Question: Who is Emily and what is her personality like?\n",
      "\n",
      " Response: Emily is a young aspiring actress in her early 20s who is the daughter of Alice. She has a bubbly personality and a quick wit, but struggles with self-doubt and insecurity. She is also in a relationship with George, a charming and ambitious businessman.\n"
     ]
    }
   ],
   "source": [
    "# Custom completion\n",
    "print(f\"Custom Completion:\\n\\n Question: {question1}\\n\\n Response:\",custom_completion(question1, df))"
   ]
  },
  {
   "cell_type": "markdown",
   "id": "6e86e37c",
   "metadata": {},
   "source": [
    "### Question 2\n",
    "\n",
    "Which character is a retired soldier and what challenges does he face?"
   ]
  },
  {
   "cell_type": "code",
   "execution_count": 14,
   "id": "6f646989",
   "metadata": {},
   "outputs": [
    {
     "name": "stdout",
     "output_type": "stream",
     "text": [
      "Basic Completion:\n",
      "\n",
      " Question: Which character is a retired soldier and what challenges does he face?\n",
      "\n",
      " Response: One possible character that fits this description is John, a retired soldier who served in the military for 25 years before retiring. He faces several challenges in his transition to civilian life, including:\n",
      "\n",
      "1. Adjusting to a new routine: After being in the military for so long, John is used to a structured and disciplined lifestyle. However, in retirement, he has to create a new routine for himself, which can be overwhelming and disorienting.\n",
      "\n",
      "2. Dealing with physical and mental health issues: John may have injuries or disabilities from his time in the military, which can make it difficult for him to perform daily tasks or find employment. He may also struggle with mental health issues such as post-traumatic stress disorder (PTSD) from his experiences in combat.\n",
      "\n",
      "3. Financial struggles: Depending on his rank and length of service, John may not receive a substantial pension or benefits in retirement. This can make it challenging for him to support himself and his family, especially if he has depend\n"
     ]
    }
   ],
   "source": [
    "# Basic completion\n",
    "question2 = \"Which character is a retired soldier and what challenges does he face?\"\n",
    "print(f\"Basic Completion:\\n\\n Question: {question2}\\n\\n Response:\",basic_completion(question2))\n"
   ]
  },
  {
   "cell_type": "code",
   "execution_count": 15,
   "id": "11c07a54",
   "metadata": {},
   "outputs": [
    {
     "name": "stdout",
     "output_type": "stream",
     "text": [
      "Custom Completion:\n",
      "\n",
      " Question: Which character is a retired soldier and what challenges does he face?\n",
      "\n",
      " Response: Tom, a retired soldier and John's son, faces challenges with PTSD and adjusting to civilian life in England.\n"
     ]
    }
   ],
   "source": [
    "# Custom completion\n",
    "print(f\"Custom Completion:\\n\\n Question: {question2}\\n\\n Response:\",custom_completion(question2, df))\n"
   ]
  },
  {
   "cell_type": "markdown",
   "id": "82164568",
   "metadata": {},
   "source": [
    "## Interactive Chatbot Loop\n",
    "\n",
    "You can now interact with the chatbot by typing your own questions below. Type 'exit' or 'quit' to end the conversation."
   ]
  },
  {
   "cell_type": "code",
   "execution_count": 16,
   "id": "b02ab530",
   "metadata": {},
   "outputs": [
    {
     "name": "stdout",
     "output_type": "stream",
     "text": [
      "Welcome to the Custom Character Chatbot! Type your question (or 'exit' to quit).\n",
      "Bot: Captain James is a charismatic and dashing character in the sitcom medium set in the USA. He is the captain of the local militia and enjoys flirting with the women of the town. He has a friendly rivalry with Reverend Brown and is known for his charm and wit.\n",
      "Bot: Can you tell me about a character named Maria?\n",
      "\n",
      "Sure! Maria is a middle-aged Latina woman in her 40s who owns a small family-run diner in a small Texas town. She's a hard-working single mother who is fiercely protective of her teenage daughter, Sofia. Maria is always trying to balance work and family, and she's a strong and resilient woman who is admired by her community. She's a central character in the movie set in Texas, and her story showcases the challenges and triumphs of being a working single mother in a small town.\n",
      "Goodbye!\n"
     ]
    }
   ],
   "source": [
    "# Interactive chatbot loop\n",
    "print(\"Welcome to the Custom Character Chatbot! Type your question (or 'exit' to quit).\")\n",
    "while True:\n",
    "    user_question = input(\"You: \")\n",
    "    if user_question.lower() in [\"exit\", \"quit\"]:\n",
    "        print(\"Goodbye!\")\n",
    "        break\n",
    "    response = custom_completion(user_question, df)\n",
    "    print(\"Bot:\", response)"
   ]
  },
  {
   "cell_type": "markdown",
   "id": "b98ed010",
   "metadata": {},
   "source": [
    "<!-- ## Step 6: Interactive Chatbot Using Relevant Context\n",
    "\n",
    "The chatbot will now use the improved context selection for each user question. -->"
   ]
  },
  {
   "cell_type": "code",
   "execution_count": null,
   "id": "484732cb",
   "metadata": {},
   "outputs": [],
   "source": [
    "# print(\"Welcome to the Custom Character Chatbot! Type your question (or 'exit' to quit).\")\n",
    "# while True:\n",
    "#     user_question = input(\"You: \")\n",
    "#     if user_question.lower() in [\"exit\", \"quit\"]:\n",
    "#         print(\"Goodbye!\")\n",
    "#         break\n",
    "#     response = custom_completion(user_question, df)\n",
    "#     print(\"Bot:\", response)"
   ]
  }
 ],
 "metadata": {
  "kernelspec": {
   "display_name": "Python 3",
   "language": "python",
   "name": "python3"
  },
  "language_info": {
   "codemirror_mode": {
    "name": "ipython",
    "version": 3
   },
   "file_extension": ".py",
   "mimetype": "text/x-python",
   "name": "python",
   "nbconvert_exporter": "python",
   "pygments_lexer": "ipython3",
   "version": "3.12.1"
  }
 },
 "nbformat": 4,
 "nbformat_minor": 5
}
